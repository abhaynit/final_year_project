{
 "cells": [
  {
   "cell_type": "code",
   "execution_count": 1,
   "id": "0f4903c4",
   "metadata": {},
   "outputs": [],
   "source": [
    "import tensorflow as tf\n",
    "from tensorflow.keras import datasets,layers,models\n",
    "import matplotlib.pyplot as plt\n",
    "import numpy as np"
   ]
  },
  {
   "cell_type": "code",
   "execution_count": 2,
   "id": "ada8ffc7",
   "metadata": {},
   "outputs": [],
   "source": [
    "(X_train,y_train),(X_test,y_test) = datasets.cifar10.load_data()"
   ]
  },
  {
   "cell_type": "code",
   "execution_count": 3,
   "id": "9297cbed",
   "metadata": {
    "scrolled": true
   },
   "outputs": [
    {
     "data": {
      "text/plain": [
       "(50000, 32, 32, 3)"
      ]
     },
     "execution_count": 3,
     "metadata": {},
     "output_type": "execute_result"
    }
   ],
   "source": [
    "X_train.shape"
   ]
  },
  {
   "cell_type": "code",
   "execution_count": 4,
   "id": "6baf1d87",
   "metadata": {},
   "outputs": [
    {
     "data": {
      "text/plain": [
       "(10000, 32, 32, 3)"
      ]
     },
     "execution_count": 4,
     "metadata": {},
     "output_type": "execute_result"
    }
   ],
   "source": [
    "X_test.shape"
   ]
  },
  {
   "cell_type": "code",
   "execution_count": 5,
   "id": "408e29b8",
   "metadata": {
    "scrolled": true
   },
   "outputs": [
    {
     "data": {
      "text/plain": [
       "array([[6],\n",
       "       [9],\n",
       "       [9],\n",
       "       [4],\n",
       "       [1]], dtype=uint8)"
      ]
     },
     "execution_count": 5,
     "metadata": {},
     "output_type": "execute_result"
    }
   ],
   "source": [
    "y_train[:5]"
   ]
  },
  {
   "cell_type": "code",
   "execution_count": 6,
   "id": "a7788096",
   "metadata": {},
   "outputs": [
    {
     "data": {
      "text/plain": [
       "array([6, 9, 9, 4, 1], dtype=uint8)"
      ]
     },
     "execution_count": 6,
     "metadata": {},
     "output_type": "execute_result"
    }
   ],
   "source": [
    "#if you want to flatten the array you have to write -1 for no change in the first dimension and keep blank for flateen it will generate automatically\n",
    "y_train = y_train.reshape(-1,)\n",
    "y_train[:5]"
   ]
  },
  {
   "cell_type": "code",
   "execution_count": 7,
   "id": "b903800f",
   "metadata": {},
   "outputs": [],
   "source": [
    "classes = [\"airplane\",\"automobile\",\"bird\",\"cat\",\"deer\",\"dog\",\"frog\",\"horse\",\"ship\",\"truck\"]"
   ]
  },
  {
   "cell_type": "code",
   "execution_count": 8,
   "id": "2bdc6fe4",
   "metadata": {},
   "outputs": [],
   "source": [
    "def plot_sample(X,y,index):\n",
    "    #plt.figure(figsize=(15,2))\n",
    "    plt.imshow(X[index])\n",
    "    plt.xlabel(classes[y[index]])"
   ]
  },
  {
   "cell_type": "code",
   "execution_count": 9,
   "id": "4c9934c7",
   "metadata": {
    "scrolled": true
   },
   "outputs": [
    {
     "data": {
      "image/png": "[encoded data removed]",
      "text/plain": [
       "<Figure size 432x288 with 1 Axes>"
      ]
     },
     "metadata": {
      "needs_background": "light"
     },
     "output_type": "display_data"
    }
   ],
   "source": [
    "plot_sample(X_train,y_train,0)"
   ]
  },
  {
   "cell_type": "code",
   "execution_count": 10,
   "id": "48259773",
   "metadata": {},
   "outputs": [],
   "source": [
    "X_train = X_train/255\n",
    "X_test = X_test/255"
   ]
  },
  {
   "cell_type": "code",
   "execution_count": 11,
   "id": "f7f094a9",
   "metadata": {
    "scrolled": true
   },
   "outputs": [
    {
     "name": "stdout",
     "output_type": "stream",
     "text": [
      "Epoch 1/5\n",
      "1563/1563 [==============================] - 15s 9ms/step - loss: 1.8113 - accuracy: 0.3554\n",
      "Epoch 2/5\n",
      "1563/1563 [==============================] - 14s 9ms/step - loss: 1.6226 - accuracy: 0.4267\n",
      "Epoch 3/5\n",
      "1563/1563 [==============================] - 14s 9ms/step - loss: 1.5435 - accuracy: 0.4552\n",
      "Epoch 4/5\n",
      "1563/1563 [==============================] - 14s 9ms/step - loss: 1.4832 - accuracy: 0.4766\n",
      "Epoch 5/5\n",
      "1563/1563 [==============================] - 14s 9ms/step - loss: 1.4327 - accuracy: 0.4976\n"
     ]
    },
    {
     "data": {
      "text/plain": [
       "<keras.callbacks.History at 0x2bb20ea3760>"
      ]
     },
     "execution_count": 11,
     "metadata": {},
     "output_type": "execute_result"
    }
   ],
   "source": [
    "ann = models.Sequential([\n",
    "    layers.Flatten(input_shape=(32,32,3)),\n",
    "    layers.Dense(3000,activation='relu'),\n",
    "    layers.Dense(1000,activation='relu'),\n",
    "    layers.Dense(10,activation='sigmoid')\n",
    "])\n",
    "\n",
    "ann.compile(optimizer='SGD',\n",
    "            #we use spase categorical crossentropy when we give the value of y directly if the value of the y is one hot level encoded then we use categorical crossentropy\n",
    "              loss = 'sparse_categorical_crossentropy',\n",
    "              metrics = ['accuracy']\n",
    ")\n",
    "\n",
    "\n",
    "ann.fit(X_train,y_train,epochs=5)"
   ]
  },
  {
   "cell_type": "code",
   "execution_count": 12,
   "id": "9586e15a",
   "metadata": {
    "scrolled": true
   },
   "outputs": [
    {
     "name": "stdout",
     "output_type": "stream",
     "text": [
      "313/313 [==============================] - 1s 3ms/step - loss: 1.4770 - accuracy: 0.4741\n"
     ]
    },
    {
     "data": {
      "text/plain": [
       "[1.4770435094833374, 0.4740999937057495]"
      ]
     },
     "execution_count": 12,
     "metadata": {},
     "output_type": "execute_result"
    }
   ],
   "source": [
    "ann.evaluate(X_test,y_test)"
   ]
  },
  {
   "cell_type": "code",
   "execution_count": 13,
   "id": "41a40037",
   "metadata": {},
   "outputs": [],
   "source": [
    "\n",
    "cnn = models.Sequential([\n",
    "\n",
    "        #cnn\n",
    "        #we have to give the filter size and the how many filter you want\n",
    "        layers.Conv2D(filters=32, kernel_size=(3,3), activation = 'relu',input_shape = (32,32,3)),\n",
    "        layers.MaxPooling2D((2,2)),\n",
    "        #just for fun another convolution ,relu and maxpooling layer\n",
    "        layers.Conv2D(filters=32, kernel_size=(3,3), activation = 'relu',input_shape = (32,32,3)),\n",
    "        layers.MaxPooling2D((2,2)),\n",
    "\n",
    "        #dense\n",
    "        layers.Flatten(),\n",
    "        layers.Dense(64,activation='relu'),\n",
    "        layers.Dense(10,activation='softmax')\n",
    "        ])\n",
    "\n",
    "cnn.compile(optimizer='adam',\n",
    "        #we use spase categorical crossentropy when we give the value of y directly if the value of the y is one hot level encoded then we use categorical crossentropy\n",
    "        loss = 'sparse_categorical_crossentropy',\n",
    "        metrics = ['accuracy']\n",
    ")"
   ]
  },
  {
   "cell_type": "code",
   "execution_count": 14,
   "id": "495a910a",
   "metadata": {
    "scrolled": true
   },
   "outputs": [
    {
     "name": "stdout",
     "output_type": "stream",
     "text": [
      "Epoch 1/10\n",
      "1563/1563 [==============================] - 18s 11ms/step - loss: 1.4835 - accuracy: 0.4673\n",
      "Epoch 2/10\n",
      "1563/1563 [==============================] - 20s 13ms/step - loss: 1.1518 - accuracy: 0.5954\n",
      "Epoch 3/10\n",
      "1563/1563 [==============================] - 21s 13ms/step - loss: 1.0377 - accuracy: 0.6371\n",
      "Epoch 4/10\n",
      "1563/1563 [==============================] - 20s 13ms/step - loss: 0.9636 - accuracy: 0.6616\n",
      "Epoch 5/10\n",
      "1563/1563 [==============================] - 20s 13ms/step - loss: 0.9033 - accuracy: 0.6823\n",
      "Epoch 6/10\n",
      "1563/1563 [==============================] - 20s 13ms/step - loss: 0.8538 - accuracy: 0.7009\n",
      "Epoch 7/10\n",
      "1563/1563 [==============================] - 20s 13ms/step - loss: 0.8115 - accuracy: 0.7179\n",
      "Epoch 8/10\n",
      "1563/1563 [==============================] - 20s 13ms/step - loss: 0.7729 - accuracy: 0.7294\n",
      "Epoch 9/10\n",
      "1563/1563 [==============================] - 20s 13ms/step - loss: 0.7378 - accuracy: 0.7443\n",
      "Epoch 10/10\n",
      "1563/1563 [==============================] - 20s 13ms/step - loss: 0.7039 - accuracy: 0.7548\n",
      "313/313 [==============================] - 2s 5ms/step - loss: 0.9379 - accuracy: 0.6810\n"
     ]
    }
   ],
   "source": [
    "with tf.device('/CPU:0'):\n",
    "    cnn.fit(X_train,y_train,epochs=10)\n",
    "    cnn.evaluate(X_test,y_test)"
   ]
  }
 ],
 "metadata": {
  "kernelspec": {
   "display_name": "Python 3",
   "language": "python",
   "name": "python3"
  },
  "language_info": {
   "codemirror_mode": {
    "name": "ipython",
    "version": 3
   },
   "file_extension": ".py",
   "mimetype": "text/x-python",
   "name": "python",
   "nbconvert_exporter": "python",
   "pygments_lexer": "ipython3",
   "version": "3.8.8"
  }
 },
 "nbformat": 4,
 "nbformat_minor": 5
}
